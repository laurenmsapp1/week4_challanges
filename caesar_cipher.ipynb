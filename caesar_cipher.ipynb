{
 "cells": [
  {
   "cell_type": "code",
   "execution_count": 1,
   "id": "91b180be",
   "metadata": {},
   "outputs": [
    {
     "name": "stdout",
     "output_type": "stream",
     "text": [
      "DYC\n"
     ]
    }
   ],
   "source": [
    "def caesar_cipher(text, shift):\n",
    "    \"\"\"It takes a text and changes each letter by a given shift.\n",
    "    \n",
    "    Args:\n",
    "        text: is the text to change\n",
    "        shift: amount of shift to apply to each letter\n",
    "        returns: the changed text\"\"\"\n",
    "    coded_text = \"\" \n",
    "    for char in text:\n",
    "        if char.isalpha():\n",
    "            letter_position = ord(char.lower()) - ord('a')\n",
    "            letter_position += shift\n",
    "            results_char = chr((letter_position % 26) + ord('a'))\n",
    "            if char.isupper():\n",
    "                results_char = results_char.upper() \n",
    "            coded_text += results_char\n",
    "        else:\n",
    "            coded_text += char\n",
    "    return coded_text\n",
    "\n",
    "print(caesar_cipher(\"AVZ\", 3))  # Example usage"
   ]
  }
 ],
 "metadata": {
  "kernelspec": {
   "display_name": "Python 3",
   "language": "python",
   "name": "python3"
  },
  "language_info": {
   "codemirror_mode": {
    "name": "ipython",
    "version": 3
   },
   "file_extension": ".py",
   "mimetype": "text/x-python",
   "name": "python",
   "nbconvert_exporter": "python",
   "pygments_lexer": "ipython3",
   "version": "3.13.5"
  }
 },
 "nbformat": 4,
 "nbformat_minor": 5
}
