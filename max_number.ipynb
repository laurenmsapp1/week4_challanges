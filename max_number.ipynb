{
 "cells": [
  {
   "cell_type": "code",
   "execution_count": null,
   "id": "3b28ad74",
   "metadata": {},
   "outputs": [
    {
     "name": "stdout",
     "output_type": "stream",
     "text": [
      "14\n"
     ]
    }
   ],
   "source": [
    "\n",
    "def Find_max(numbers):\n",
    "    \"\"\"Returns the max number from a list of numbers.\n",
    "    \n",
    "    Args:\n",
    "        \"\"\"\n",
    "    if not numbers:\n",
    "        return (\"No Number Listed\") \n",
    "    max_num = numbers[0]\n",
    "    for num in numbers:\n",
    "        if num > max_num:\n",
    "            max_num = num       \n",
    "    return max_num\n",
    "\n",
    "result = max_number([2, 4, 6, 8, -10, 12, 14, -16])\n",
    "print(result) \n"
   ]
  },
  {
   "cell_type": "code",
   "execution_count": 25,
   "id": "611f1ca9",
   "metadata": {},
   "outputs": [
    {
     "name": "stdout",
     "output_type": "stream",
     "text": [
      "Max Number: 14, Index: 6\n"
     ]
    }
   ],
   "source": [
    "def find_max_w_index(numbers):\n",
    "    if not numbers:\n",
    "        return \"No Number Listed\"\n",
    "    \n",
    "    max_value = numbers[0]\n",
    "    max_index = 0\n",
    "    \n",
    "    for i in range(1, len(numbers)):\n",
    "        if numbers[i] > max_value:\n",
    "            max_value = numbers[i]\n",
    "            max_index = i\n",
    "            \n",
    "    return max_value, max_index\n",
    "\n",
    "#to get result-\n",
    "result = find_max_w_index([2, 4, 6, 8, -10, 12, 14, -16])\n",
    "print(f\"Max Number: {result[0]}, Index: {result[1]}\")"
   ]
  },
  {
   "cell_type": "code",
   "execution_count": 26,
   "id": "d137a241",
   "metadata": {},
   "outputs": [
    {
     "name": "stdout",
     "output_type": "stream",
     "text": [
      "Max Number: 14, Index: 6\n"
     ]
    }
   ],
   "source": [
    "def find_max_w_index_while(numbers):\n",
    "    if not numbers:\n",
    "        return \"No Number Listed\"\n",
    "    \n",
    "    max_value = numbers[0]\n",
    "    max_index = 0\n",
    "    i = 1  # Start from the second element\n",
    "\n",
    "    while i < len(numbers):\n",
    "        if numbers[i] > max_value:\n",
    "            max_value = numbers[i]\n",
    "            max_index = i\n",
    "        i += 1\n",
    "    \n",
    "    return max_value, max_index\n",
    "\n",
    "#to get result-\n",
    "result = find_max_w_index_while([2, 4, 6, 8, -10, 12, 14, -16])\n",
    "print(f\"Max Number: {result[0]}, Index: {result[1]}\")\n"
   ]
  }
 ],
 "metadata": {
  "kernelspec": {
   "display_name": "Python 3",
   "language": "python",
   "name": "python3"
  },
  "language_info": {
   "codemirror_mode": {
    "name": "ipython",
    "version": 3
   },
   "file_extension": ".py",
   "mimetype": "text/x-python",
   "name": "python",
   "nbconvert_exporter": "python",
   "pygments_lexer": "ipython3",
   "version": "3.13.5"
  }
 },
 "nbformat": 4,
 "nbformat_minor": 5
}
